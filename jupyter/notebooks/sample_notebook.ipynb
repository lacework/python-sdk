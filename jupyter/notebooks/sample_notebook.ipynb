{
 "cells": [
  {
   "cell_type": "markdown",
   "id": "1accf00b",
   "metadata": {},
   "source": [
    "# Lacework Demo Notebook\n",
    "\n",
    "This is a simple demonstration of a notebook that uses the Lacebook container and connects to a Lacework instance to pull some data off it."
   ]
  },
  {
   "cell_type": "markdown",
   "id": "1762deb6",
   "metadata": {},
   "source": [
    "## Connect to an Instance\n",
    "\n",
    "Basic imports have already been completed, they are done at loading time of the lacebook kernel.\n",
    "\n",
    "To see what imports are done, please see [the code here](https://github.com/lacework/python-sdk/blob/main/jupyter/docker/docker_build/00-import.py)\n",
    "\n",
    "To connect to a Lacework instance we just need to create a client object, which is an instance of\n",
    "`LaceworkJupyterHelper`. The Jupyter helper is a simple wrapper around the Python SDK that returns the\n",
    "output of the API calls as a pandas DataFrame instead of a dict. The SDK can be queried directly, thus bypassing\n",
    "the wrapper, by calling `client.sdk.<FUNCTION>`.\n",
    "\n",
    "To execute cells in a Jupyter notebook click on the cell below and hit \"shift + enter\"\n",
    "\n",
    "**when no option/parameter is passed to the LaceworkJupyterHelper it attempts to read credentials from the system environment variables (inside the lacebook container) or from the CLI config on the host. If neither of these are available you may need to manually enter the credentials.**"
   ]
  },
  {
   "cell_type": "code",
   "execution_count": null,
   "id": "5db5b5ad",
   "metadata": {},
   "outputs": [],
   "source": [
    "client = LaceworkJupyterHelper()"
   ]
  },
  {
   "cell_type": "markdown",
   "id": "a7d1b82c",
   "metadata": {},
   "source": [
    "If you need to manually enter the credentials you can run the above cell using the parameters:\n",
    "\n",
    "```\n",
    "client = LaceworkJupyterHelper(\n",
    "    api_key=API_KEY,\n",
    "    api_secret=API_SECRET,\n",
    "    account=ACCOUNT,\n",
    ")\n",
    "```\n",
    "\n",
    "There are other parameters as well, to see a full list, as well as to be able to see the docstring for any function, run a cell with the function name followed by a `?`, eg: \n",
    "\n",
    "```\n",
    "LaceworkJupyterHelper?\n",
    "```"
   ]
  },
  {
   "cell_type": "markdown",
   "id": "738ad19c",
   "metadata": {},
   "source": [
    "## Events"
   ]
  },
  {
   "cell_type": "markdown",
   "id": "e8acb04f",
   "metadata": {},
   "source": [
    "Now that we are connected to the client, we can start querying for data. Let's start by looking at recent event activity. We can generate the start and end time manually or we can take advantage of the `utils` library that comes as part of the Jupyter helper. Let's make use of that and lets query the last 5 days."
   ]
  },
  {
   "cell_type": "code",
   "execution_count": null,
   "id": "f2ff5d79",
   "metadata": {},
   "outputs": [],
   "source": [
    "start_date, end_date = utils.parse_date_offset('LAST 5 DAYS')"
   ]
  },
  {
   "cell_type": "markdown",
   "id": "c154d209",
   "metadata": {},
   "source": [
    "Now that we've got start and end time, we can simply use the client to get events from the last five days."
   ]
  },
  {
   "cell_type": "code",
   "execution_count": null,
   "id": "81d11142",
   "metadata": {},
   "outputs": [],
   "source": [
    "event_df = client.events.get_for_date_range(start_date, end_date)"
   ]
  },
  {
   "cell_type": "markdown",
   "id": "3980363c",
   "metadata": {},
   "source": [
    "Since the data that we get back is a data frame, we can start exploring it. One quick way of understanding the data that we get is to use the `.shape`, that will give us the number of rows and columns inside the returned data frame.\n",
    "\n",
    "This is not really a tutorial on how pandas DataFrame works, there are other better guides on the Internet for that. This is just an example of few things one can do with the Lacework connection."
   ]
  },
  {
   "cell_type": "code",
   "execution_count": null,
   "id": "7b3206f7",
   "metadata": {},
   "outputs": [],
   "source": [
    "event_df.shape"
   ]
  },
  {
   "cell_type": "markdown",
   "id": "d1c946de",
   "metadata": {},
   "source": [
    "Now let's use the `value_counts` to summarize or to run an aggregation on a single column within the data frame. For this reason, let's look at what sort of severity these events have."
   ]
  },
  {
   "cell_type": "code",
   "execution_count": null,
   "id": "7ff6d406",
   "metadata": {},
   "outputs": [],
   "source": [
    "event_df.SEVERITY.value_counts()"
   ]
  },
  {
   "cell_type": "markdown",
   "id": "c12b8c94",
   "metadata": {},
   "source": [
    "We may only be interested in a subset of these events, so let's do a quick filter and only care about `Critical` and `High` events, at least for now."
   ]
  },
  {
   "cell_type": "code",
   "execution_count": null,
   "id": "aa868ddc",
   "metadata": {},
   "outputs": [],
   "source": [
    "subevents_df = event_df[event_df.SEVERITY.isin(['High', 'Critical'])]"
   ]
  },
  {
   "cell_type": "markdown",
   "id": "b351aadd",
   "metadata": {},
   "source": [
    "Now we've got fewer events to look at. Let's take a closer look here."
   ]
  },
  {
   "cell_type": "code",
   "execution_count": null,
   "id": "d04fdaca",
   "metadata": {},
   "outputs": [],
   "source": [
    "subevents_df.head(3)"
   ]
  },
  {
   "cell_type": "markdown",
   "id": "b8ad44e9",
   "metadata": {},
   "source": [
    "By looking at just three events from the data frame we can start to see what sort of information is stored in the dataframe, which can give us better ideas on how to filter it.\n",
    "\n",
    "Now, let's look at what sort of event types we've got for these high and critical events."
   ]
  },
  {
   "cell_type": "code",
   "execution_count": null,
   "id": "1e89afff",
   "metadata": {},
   "outputs": [],
   "source": [
    "subevents_df.EVENT_TYPE.value_counts()"
   ]
  },
  {
   "cell_type": "markdown",
   "id": "3555571a",
   "metadata": {},
   "source": [
    "We can now start to look at some of these events in more details, let's look at one particular event type.\n",
    "\n",
    "Since the events will differ depending on when you run this command and on the events generated by your own environment, you will most likely need to change the value that is being filtered on here below. Adjust according to what you are seeing."
   ]
  },
  {
   "cell_type": "code",
   "execution_count": null,
   "id": "0d185178",
   "metadata": {},
   "outputs": [],
   "source": [
    "subevents_df[subevents_df.EVENT_TYPE == 'UserLoggedInFromNewLocation']"
   ]
  },
  {
   "cell_type": "markdown",
   "id": "585560df",
   "metadata": {},
   "source": [
    "Now we may want to take a closer look at this particular event..."
   ]
  },
  {
   "cell_type": "code",
   "execution_count": null,
   "id": "fa67ea94",
   "metadata": {},
   "outputs": [],
   "source": [
    "event_id = int(subevents_df[subevents_df.EVENT_TYPE == 'UserLoggedInFromNewLocation'].iloc[0].EVENT_ID)\n",
    "\n",
    "event = client.events.get_details(event_id)"
   ]
  },
  {
   "cell_type": "code",
   "execution_count": null,
   "id": "dd9a5dbf",
   "metadata": {},
   "outputs": [],
   "source": [
    "event"
   ]
  },
  {
   "cell_type": "markdown",
   "id": "351921da",
   "metadata": {},
   "source": [
    "We get back a single event details, but we get it back as a data frame. We also notice that there is this field called `ENTITY_MAP` which contains another JSON, we can now use a function inside the utils library to flatten this field out."
   ]
  },
  {
   "cell_type": "code",
   "execution_count": null,
   "id": "e4a816ad",
   "metadata": {},
   "outputs": [],
   "source": [
    "event_flattened = utils.flatten_data_frame(event)"
   ]
  },
  {
   "cell_type": "markdown",
   "id": "180ef9d2",
   "metadata": {},
   "source": [
    "Let's look at this flattened DataFrame"
   ]
  },
  {
   "cell_type": "code",
   "execution_count": null,
   "id": "b83493b5",
   "metadata": {},
   "outputs": [],
   "source": [
    "event_flattened"
   ]
  },
  {
   "cell_type": "markdown",
   "id": "4623e120",
   "metadata": {},
   "source": [
    "Now the entire `ENTITY_MAP` has been expanded into separate columns. Let's look at this as a dict, and print it out a bit prettier."
   ]
  },
  {
   "cell_type": "code",
   "execution_count": null,
   "id": "3300e0d9",
   "metadata": {},
   "outputs": [],
   "source": [
    "event_dict = event_flattened.iloc[0].to_dict()\n",
    "max_length = max([len(x) for x in event_dict.keys()])\n",
    "\n",
    "for key, value in event_dict.items():\n",
    "    fmt_string = f'[{{key:>{max_length}s}}] = {{value}}'\n",
    "    print(fmt_string.format(key=key, value=value))"
   ]
  },
  {
   "cell_type": "markdown",
   "id": "dc1b6c58",
   "metadata": {},
   "source": [
    "Now we can start reading through this event to see whether this is something we need to investigate further, and look for inside our environment."
   ]
  },
  {
   "cell_type": "markdown",
   "id": "9fd536c0",
   "metadata": {},
   "source": [
    "## Vulnerabilities\n",
    "\n",
    "Let's look at another function of the Python SDK, the vulnerabilities."
   ]
  },
  {
   "cell_type": "code",
   "execution_count": null,
   "id": "cab1b526",
   "metadata": {},
   "outputs": [],
   "source": [
    "vuln_df = client.vulnerabilities.get_host_vulnerabilities()"
   ]
  },
  {
   "cell_type": "markdown",
   "id": "40c99f23",
   "metadata": {},
   "source": [
    "We can see that both the `packages` and the `summary` columns are JSON structures, we can flatten this out again."
   ]
  },
  {
   "cell_type": "code",
   "execution_count": null,
   "id": "59a16add",
   "metadata": {},
   "outputs": [],
   "source": [
    "vuln_flatten_df = utils.flatten_data_frame(vuln_df)"
   ]
  },
  {
   "cell_type": "markdown",
   "id": "719aaa00",
   "metadata": {},
   "source": [
    "Let's look at the flattened data frame here:"
   ]
  },
  {
   "cell_type": "code",
   "execution_count": null,
   "id": "ed52000d",
   "metadata": {},
   "outputs": [],
   "source": [
    "vuln_flatten_df.head(4)"
   ]
  },
  {
   "cell_type": "markdown",
   "id": "f851b5be",
   "metadata": {},
   "source": [
    "Now we've got quite a lot more fields here. The flattening does not really work well for this case, since it will create many packages_N subsections. There is an option in the flattening to create new rows instead of generating more columns.\n",
    "\n",
    "Let's flatten the DataFrame one more time, using this option now."
   ]
  },
  {
   "cell_type": "code",
   "execution_count": null,
   "id": "4a9a3aa9",
   "metadata": {},
   "outputs": [],
   "source": [
    "vuln_flatten_df = utils.flatten_data_frame(\n",
    "    vuln_df, lists_to_rows=True\n",
    ")"
   ]
  },
  {
   "cell_type": "code",
   "execution_count": null,
   "id": "b570f638",
   "metadata": {},
   "outputs": [],
   "source": [
    "vuln_flatten_df.head(4)"
   ]
  },
  {
   "cell_type": "markdown",
   "id": "d0e361e6",
   "metadata": {},
   "source": [
    "This looks better, now we can start to look at package names, etc."
   ]
  },
  {
   "cell_type": "code",
   "execution_count": null,
   "id": "a55abc80",
   "metadata": {},
   "outputs": [],
   "source": [
    "vuln_flatten_df.columns"
   ]
  },
  {
   "cell_type": "markdown",
   "id": "cb134f6d",
   "metadata": {},
   "source": [
    "Now we can summarize some of these for further inspection..."
   ]
  },
  {
   "cell_type": "code",
   "execution_count": null,
   "id": "4e6bb73e",
   "metadata": {},
   "outputs": [],
   "source": [
    "vuln_flatten_df['packages.name'].value_counts()"
   ]
  },
  {
   "cell_type": "markdown",
   "id": "2741e131",
   "metadata": {},
   "source": [
    "And to look at the criticality of things..."
   ]
  },
  {
   "cell_type": "code",
   "execution_count": null,
   "id": "a6d4f76d",
   "metadata": {},
   "outputs": [],
   "source": [
    "vuln_flatten_df['packages.severity'].value_counts()"
   ]
  },
  {
   "cell_type": "code",
   "execution_count": null,
   "id": "aaf42ba9",
   "metadata": {},
   "outputs": [],
   "source": [
    "vuln_flatten_df['packages.fix_available'].value_counts()"
   ]
  },
  {
   "cell_type": "markdown",
   "id": "0c00e6ab",
   "metadata": {},
   "source": [
    "We can also start to look for signs of a particular vulnerability... let's say vulnerabilities where there is a fix available, the severity is high to critical and the word `remote` comes somewhere in the description of it."
   ]
  },
  {
   "cell_type": "code",
   "execution_count": null,
   "id": "fe2811b0",
   "metadata": {},
   "outputs": [],
   "source": [
    "vuln_slice = vuln_flatten_df[\n",
    "    (vuln_flatten_df['packages.fix_available'] == '1') &\n",
    "    (vuln_flatten_df['packages.severity'].isin(['High', 'Critical'])) &\n",
    "    (vuln_flatten_df['packages.description'].str.contains('remote'))][\n",
    "        ['packages.name', 'cve_id', 'packages.version', 'packages.fixed_version', 'packages.severity']].drop_duplicates()\n",
    "\n",
    "vuln_slice"
   ]
  },
  {
   "cell_type": "markdown",
   "id": "28b3f9e1",
   "metadata": {},
   "source": [
    "We can take a look at CVEs and severity together for instance"
   ]
  },
  {
   "cell_type": "code",
   "execution_count": null,
   "id": "1f8301fe",
   "metadata": {},
   "outputs": [],
   "source": [
    "vuln_slice[['cve_id', 'packages.severity']].value_counts()"
   ]
  },
  {
   "cell_type": "code",
   "execution_count": null,
   "id": "a24239d3",
   "metadata": {},
   "outputs": [],
   "source": [
    "vuln_slice[['cve_id', 'packages.severity']].drop_duplicates()"
   ]
  },
  {
   "cell_type": "markdown",
   "id": "d6a418cf",
   "metadata": {},
   "source": [
    "And from this we could get some indication of priority of tasks, etc."
   ]
  },
  {
   "cell_type": "markdown",
   "id": "51a7f59e",
   "metadata": {},
   "source": [
    "## LQL Queries\n",
    "\n",
    "You can also run LQL queries here."
   ]
  },
  {
   "cell_type": "code",
   "execution_count": null,
   "id": "371aa9dc",
   "metadata": {},
   "outputs": [],
   "source": [
    "client.queries.execute(\n",
    "    evaluator_id='Cloudtrail',\n",
    "    arguments={\n",
    "        'StartTimeRange': '2021-09-01',\n",
    "        'EndTimeRange': '2021-09-07'\n",
    "    },\n",
    "    query_text=some_lql_query)"
   ]
  },
  {
   "cell_type": "markdown",
   "id": "e83ce1d4",
   "metadata": {},
   "source": [
    "## Final Words"
   ]
  },
  {
   "cell_type": "markdown",
   "id": "bbce5bd9",
   "metadata": {},
   "source": [
    "To discover what is possible within the client, use jupyter functions"
   ]
  },
  {
   "cell_type": "code",
   "execution_count": null,
   "id": "d58836e7",
   "metadata": {},
   "outputs": [],
   "source": [
    "client.*?"
   ]
  },
  {
   "cell_type": "markdown",
   "id": "b5597de5",
   "metadata": {},
   "source": [
    "This will show you what API wrappers are available, and within each of these you can find out the available functions."
   ]
  },
  {
   "cell_type": "code",
   "execution_count": null,
   "id": "f664648d",
   "metadata": {},
   "outputs": [],
   "source": [
    "client.events.*?"
   ]
  },
  {
   "cell_type": "markdown",
   "id": "a6bdc683",
   "metadata": {},
   "source": [
    "And to find out how to use each function."
   ]
  },
  {
   "cell_type": "code",
   "execution_count": null,
   "id": "acdc5ed9",
   "metadata": {},
   "outputs": [],
   "source": [
    "client.events.get_for_date_range?"
   ]
  },
  {
   "cell_type": "code",
   "execution_count": null,
   "id": "a4160bcd",
   "metadata": {},
   "outputs": [],
   "source": []
  }
 ],
 "metadata": {
  "kernelspec": {
   "display_name": "Python 3 (ipykernel)",
   "language": "python",
   "name": "python3"
  },
  "language_info": {
   "codemirror_mode": {
    "name": "ipython",
    "version": 3
   },
   "file_extension": ".py",
   "mimetype": "text/x-python",
   "name": "python",
   "nbconvert_exporter": "python",
   "pygments_lexer": "ipython3",
   "version": "3.8.12"
  }
 },
 "nbformat": 4,
 "nbformat_minor": 5
}
