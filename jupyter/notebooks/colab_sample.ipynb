{
  "nbformat": 4,
  "nbformat_minor": 5,
  "metadata": {
    "kernelspec": {
      "display_name": "Python 3 (ipykernel)",
      "language": "python",
      "name": "python3"
    },
    "language_info": {
      "codemirror_mode": {
        "name": "ipython",
        "version": 3
      },
      "file_extension": ".py",
      "mimetype": "text/x-python",
      "name": "python",
      "nbconvert_exporter": "python",
      "pygments_lexer": "ipython3",
      "version": "3.8.12"
    },
    "colab": {
      "name": "sample_notebook.ipynb",
      "private_outputs": true,
      "provenance": [],
      "include_colab_link": true
    }
  },
  "cells": [
    {
      "cell_type": "markdown",
      "metadata": {
        "id": "view-in-github",
        "colab_type": "text"
      },
      "source": [
        "<a href=\"https://colab.research.google.com/github/lacework/python-sdk/blob/main/jupyter/notebooks/colab_sample.ipynb\" target=\"_parent\"><img src=\"https://colab.research.google.com/assets/colab-badge.svg\" alt=\"Open In Colab\"/></a>"
      ]
    },
    {
      "cell_type": "markdown",
      "metadata": {
        "id": "1accf00b"
      },
      "source": [
        "# Lacework Demo Notebook\n",
        "\n",
        "This is a simple demonstration of a notebook that uses the Lacebook container and connects to a Lacework instance to pull some data off it.",
        "\n",
        "You'll first need to install the Lacebook container to connect to it, see [here](https://github.com/lacework/python-sdk/blob/main/jupyter/README.md)",
        "\n",
        "After the notebook is started you can connect to the localruntime (see instructions)"
      ],
      "id": "1accf00b"
    },
    {
      "cell_type": "markdown",
      "metadata": {
        "id": "1762deb6"
      },
      "source": [
        "## Connect to an Instance\n",
        "\n",
        "Basic imports have already been completed, they are done at loading time of the lacebook kernel.\n",
        "\n",
        "To see what imports are done, please see [the code here](https://github.com/lacework/python-sdk/blob/main/jupyter/docker/docker_build/00-import.py)\n",
        "\n",
        "To connect to a Lacework instance we just need to create a client object, which is an instance of\n",
        "`LaceworkJupyterHelper`. The Jupyter helper is a simple wrapper around the Python SDK that returns the\n",
        "output of the API calls as a pandas DataFrame instead of a dict. The SDK can be queried directly, thus bypassing\n",
        "the wrapper, by calling `client.sdk.<FUNCTION>`.\n",
        "\n",
        "To execute cells in a Jupyter notebook click on the cell below and hit \"shift + enter\"\n",
        "\n",
        "**when no option/parameter is passed to the LaceworkJupyterHelper it attempts to read credentials from the system environment variables (inside the lacebook container) or from the CLI config on the host. If neither of these are available you may need to manually enter the credentials.**"
      ],
      "id": "1762deb6"
    },
    {
      "cell_type": "code",
      "metadata": {
        "id": "5db5b5ad"
      },
      "source": [
        "client = lw.get_client()"
      ],
      "id": "5db5b5ad",
      "execution_count": null,
      "outputs": []
    },
    {
      "cell_type": "markdown",
      "metadata": {
        "id": "a7d1b82c"
      },
      "source": [
        "If you need to manually enter the credentials you can run the above cell using the parameters:\n",
        "\n",
        "```\n",
        "client = lw.get_client(\n",
        "    api_key=API_KEY,\n",
        "    api_secret=API_SECRET,\n",
        "    account=ACCOUNT,\n",
        ")\n",
        "```\n",
        "\n",
        "There are other parameters as well, to see a full list, as well as to be able to see the docstring for any function, run a cell with the function name followed by a `?`, eg: \n",
        "\n",
        "```\n",
        "LaceworkJupyterHelper?\n",
        "```"
      ],
      "id": "a7d1b82c"
    },
    {
      "cell_type": "markdown",
      "metadata": {
        "id": "738ad19c"
      },
      "source": [
        "## Events"
      ],
      "id": "738ad19c"
    },
    {
      "cell_type": "markdown",
      "metadata": {
        "id": "e8acb04f"
      },
      "source": [
        "Now that we are connected to the client, we can start querying for data. Let's start by looking at recent event activity. We can generate the start and end time manually or we can take advantage of the `utils` library that comes as part of the Jupyter helper. Let's make use of that and lets query the last 5 days."
      ],
      "id": "e8acb04f"
    },
    {
      "cell_type": "code",
      "metadata": {
        "id": "f2ff5d79"
      },
      "source": [
        "start_date, end_date = utils.parse_date_offset('LAST 5 DAYS')"
      ],
      "id": "f2ff5d79",
      "execution_count": null,
      "outputs": []
    },
    {
      "cell_type": "markdown",
      "metadata": {
        "id": "xBBdhDAZS7Uu"
      },
      "source": [
        "You can also take advantage of forms"
      ],
      "id": "xBBdhDAZS7Uu"
    },
    {
      "cell_type": "code",
      "metadata": {
        "id": "6A2JWmMxS91v"
      },
      "source": [
        "#@title Select Dates Using a form { run: \"auto\", display-mode: \"form\" }\n",
        "START_DATE = \"2021-09-08\" #@param {type:\"date\"}\n",
        "END_DATE = \"2021-09-08\" #@param {type:\"date\"}\n",
        "\n",
        "start_date = f'{START_DATE}T00:00:00'\n",
        "end_date = f'{END_DATE}T23:59:59'\n",
        "\n"
      ],
      "id": "6A2JWmMxS91v",
      "execution_count": null,
      "outputs": []
    },
    {
      "cell_type": "markdown",
      "metadata": {
        "id": "c154d209"
      },
      "source": [
        "Now that we've got start and end time, we can simply use the client to get events from the last five days."
      ],
      "id": "c154d209"
    },
    {
      "cell_type": "code",
      "metadata": {
        "id": "81d11142"
      },
      "source": [
        "event_df = client.events.get_for_date_range(start_date, end_date)"
      ],
      "id": "81d11142",
      "execution_count": null,
      "outputs": []
    },
    {
      "cell_type": "markdown",
      "metadata": {
        "id": "3980363c"
      },
      "source": [
        "Since the data that we get back is a data frame, we can start exploring it. One quick way of understanding the data that we get is to use the `.shape`, that will give us the number of rows and columns inside the returned data frame.\n",
        "\n",
        "This is not really a tutorial on how pandas DataFrame works, there are other better guides on the Internet for that. This is just an example of few things one can do with the Lacework connection."
      ],
      "id": "3980363c"
    },
    {
      "cell_type": "code",
      "metadata": {
        "id": "7b3206f7"
      },
      "source": [
        "event_df.shape"
      ],
      "id": "7b3206f7",
      "execution_count": null,
      "outputs": []
    },
    {
      "cell_type": "markdown",
      "metadata": {
        "id": "d1c946de"
      },
      "source": [
        "Now let's use the `value_counts` to summarize or to run an aggregation on a single column within the data frame. For this reason, let's look at what sort of severity these events have."
      ],
      "id": "d1c946de"
    },
    {
      "cell_type": "code",
      "metadata": {
        "id": "7ff6d406"
      },
      "source": [
        "event_df.SEVERITY.value_counts()"
      ],
      "id": "7ff6d406",
      "execution_count": null,
      "outputs": []
    },
    {
      "cell_type": "markdown",
      "metadata": {
        "id": "c12b8c94"
      },
      "source": [
        "We may only be interested in a subset of these events, so let's do a quick filter and only care about `Critical` and `High` events, at least for now."
      ],
      "id": "c12b8c94"
    },
    {
      "cell_type": "code",
      "metadata": {
        "id": "aa868ddc"
      },
      "source": [
        "subevents_df = event_df[event_df.SEVERITY.isin(['High', 'Critical'])]"
      ],
      "id": "aa868ddc",
      "execution_count": null,
      "outputs": []
    },
    {
      "cell_type": "markdown",
      "metadata": {
        "id": "b351aadd"
      },
      "source": [
        "Now we've got fewer events to look at. Let's take a closer look here."
      ],
      "id": "b351aadd"
    },
    {
      "cell_type": "code",
      "metadata": {
        "id": "d04fdaca"
      },
      "source": [
        "subevents_df.head(3)"
      ],
      "id": "d04fdaca",
      "execution_count": null,
      "outputs": []
    },
    {
      "cell_type": "markdown",
      "metadata": {
        "id": "b8ad44e9"
      },
      "source": [
        "By looking at just three events from the data frame we can start to see what sort of information is stored in the dataframe, which can give us better ideas on how to filter it.\n",
        "\n",
        "Now, let's look at what sort of event types we've got for these high and critical events."
      ],
      "id": "b8ad44e9"
    },
    {
      "cell_type": "code",
      "metadata": {
        "id": "1e89afff"
      },
      "source": [
        "subevents_df.EVENT_TYPE.value_counts()"
      ],
      "id": "1e89afff",
      "execution_count": null,
      "outputs": []
    },
    {
      "cell_type": "markdown",
      "metadata": {
        "id": "3555571a"
      },
      "source": [
        "We can now start to look at some of these events in more details, let's look at one particular event type.\n",
        "\n",
        "Since the events will differ depending on when you run this command and on the events generated by your own environment, you will most likely need to change the value that is being filtered on here below. Adjust according to what you are seeing."
      ],
      "id": "3555571a"
    },
    {
      "cell_type": "code",
      "metadata": {
        "id": "0d185178"
      },
      "source": [
        "subevents_df[subevents_df.EVENT_TYPE == 'NewViolations']"
      ],
      "id": "0d185178",
      "execution_count": null,
      "outputs": []
    },
    {
      "cell_type": "markdown",
      "metadata": {
        "id": "585560df"
      },
      "source": [
        "Now we may want to take a closer look at this particular event..."
      ],
      "id": "585560df"
    },
    {
      "cell_type": "code",
      "metadata": {
        "id": "fa67ea94"
      },
      "source": [
        "event_id = int(subevents_df[subevents_df.EVENT_TYPE == 'NewViolations'].iloc[0].EVENT_ID)\n",
        "\n",
        "event = client.events.get_details(event_id)"
      ],
      "id": "fa67ea94",
      "execution_count": null,
      "outputs": []
    },
    {
      "cell_type": "code",
      "metadata": {
        "id": "dd9a5dbf"
      },
      "source": [
        "event"
      ],
      "id": "dd9a5dbf",
      "execution_count": null,
      "outputs": []
    },
    {
      "cell_type": "markdown",
      "metadata": {
        "id": "351921da"
      },
      "source": [
        "We get back a single event details, but we get it back as a data frame. We also notice that there is this field called `ENTITY_MAP` which contains another JSON, we can now use a function inside the utils library to flatten this field out."
      ],
      "id": "351921da"
    },
    {
      "cell_type": "code",
      "metadata": {
        "id": "e4a816ad"
      },
      "source": [
        "event_flattened = utils.flatten_data_frame(event)"
      ],
      "id": "e4a816ad",
      "execution_count": null,
      "outputs": []
    },
    {
      "cell_type": "markdown",
      "metadata": {
        "id": "180ef9d2"
      },
      "source": [
        "Let's look at this flattened DataFrame"
      ],
      "id": "180ef9d2"
    },
    {
      "cell_type": "code",
      "metadata": {
        "id": "b83493b5"
      },
      "source": [
        "event_flattened"
      ],
      "id": "b83493b5",
      "execution_count": null,
      "outputs": []
    },
    {
      "cell_type": "markdown",
      "metadata": {
        "id": "4623e120"
      },
      "source": [
        "Now the entire `ENTITY_MAP` has been expanded into separate columns. Let's look at this as a dict, and print it out a bit prettier."
      ],
      "id": "4623e120"
    },
    {
      "cell_type": "code",
      "metadata": {
        "id": "3300e0d9"
      },
      "source": [
        "event_dict = event_flattened.iloc[0].to_dict()\n",
        "max_length = max([len(x) for x in event_dict.keys()])\n",
        "\n",
        "for key, value in event_dict.items():\n",
        "    fmt_string = f'[{{key:>{max_length}s}}] = {{value}}'\n",
        "    print(fmt_string.format(key=key, value=value))"
      ],
      "id": "3300e0d9",
      "execution_count": null,
      "outputs": []
    },
    {
      "cell_type": "markdown",
      "metadata": {
        "id": "dc1b6c58"
      },
      "source": [
        "Now we can start reading through this event to see whether this is something we need to investigate further, and look for inside our environment."
      ],
      "id": "dc1b6c58"
    },
    {
      "cell_type": "markdown",
      "metadata": {
        "id": "9fd536c0"
      },
      "source": [
        "## Vulnerabilities\n",
        "\n",
        "Let's look at another function of the Python SDK, the vulnerabilities."
      ],
      "id": "9fd536c0"
    },
    {
      "cell_type": "code",
      "metadata": {
        "id": "cab1b526"
      },
      "source": [
        "vuln_df = client.vulnerabilities.get_host_vulnerabilities()"
      ],
      "id": "cab1b526",
      "execution_count": null,
      "outputs": []
    },
    {
      "cell_type": "markdown",
      "metadata": {
        "id": "40c99f23"
      },
      "source": [
        "We can see that both the `packages` and the `summary` columns are JSON structures, we can flatten this out again."
      ],
      "id": "40c99f23"
    },
    {
      "cell_type": "code",
      "metadata": {
        "id": "59a16add"
      },
      "source": [
        "vuln_flatten_df = utils.flatten_data_frame(vuln_df)"
      ],
      "id": "59a16add",
      "execution_count": null,
      "outputs": []
    },
    {
      "cell_type": "markdown",
      "metadata": {
        "id": "719aaa00"
      },
      "source": [
        "Let's look at the flattened data frame here:"
      ],
      "id": "719aaa00"
    },
    {
      "cell_type": "code",
      "metadata": {
        "id": "ed52000d"
      },
      "source": [
        "vuln_flatten_df.head(4)"
      ],
      "id": "ed52000d",
      "execution_count": null,
      "outputs": []
    },
    {
      "cell_type": "markdown",
      "metadata": {
        "id": "f851b5be"
      },
      "source": [
        "Now we've got quite a lot more fields here. The flattening does not really work well for this case, since it will create many packages_N subsections. There is an option in the flattening to create new rows instead of generating more columns.\n",
        "\n",
        "Let's flatten the DataFrame one more time, using this option now."
      ],
      "id": "f851b5be"
    },
    {
      "cell_type": "code",
      "metadata": {
        "id": "4a9a3aa9"
      },
      "source": [
        "vuln_flatten_df = utils.flatten_data_frame(\n",
        "    vuln_df, lists_to_rows=True\n",
        ")"
      ],
      "id": "4a9a3aa9",
      "execution_count": null,
      "outputs": []
    },
    {
      "cell_type": "code",
      "metadata": {
        "id": "b570f638"
      },
      "source": [
        "vuln_flatten_df.head(4)"
      ],
      "id": "b570f638",
      "execution_count": null,
      "outputs": []
    },
    {
      "cell_type": "markdown",
      "metadata": {
        "id": "d0e361e6"
      },
      "source": [
        "This looks better, now we can start to look at package names, etc."
      ],
      "id": "d0e361e6"
    },
    {
      "cell_type": "code",
      "metadata": {
        "id": "a55abc80"
      },
      "source": [
        "vuln_flatten_df.columns"
      ],
      "id": "a55abc80",
      "execution_count": null,
      "outputs": []
    },
    {
      "cell_type": "markdown",
      "metadata": {
        "id": "cb134f6d"
      },
      "source": [
        "Now we can summarize some of these for further inspection..."
      ],
      "id": "cb134f6d"
    },
    {
      "cell_type": "code",
      "metadata": {
        "id": "4e6bb73e"
      },
      "source": [
        "vuln_flatten_df['packages.name'].value_counts()"
      ],
      "id": "4e6bb73e",
      "execution_count": null,
      "outputs": []
    },
    {
      "cell_type": "markdown",
      "metadata": {
        "id": "2741e131"
      },
      "source": [
        "And to look at the criticality of things..."
      ],
      "id": "2741e131"
    },
    {
      "cell_type": "code",
      "metadata": {
        "id": "a6d4f76d"
      },
      "source": [
        "vuln_flatten_df['packages.severity'].value_counts()"
      ],
      "id": "a6d4f76d",
      "execution_count": null,
      "outputs": []
    },
    {
      "cell_type": "code",
      "metadata": {
        "id": "aaf42ba9"
      },
      "source": [
        "vuln_flatten_df['packages.fix_available'].value_counts()"
      ],
      "id": "aaf42ba9",
      "execution_count": null,
      "outputs": []
    },
    {
      "cell_type": "markdown",
      "metadata": {
        "id": "0c00e6ab"
      },
      "source": [
        "We can also start to look for signs of a particular vulnerability... let's say vulnerabilities where there is a fix available, the severity is high to critical and the word `remote` comes somewhere in the description of it."
      ],
      "id": "0c00e6ab"
    },
    {
      "cell_type": "code",
      "metadata": {
        "id": "fe2811b0"
      },
      "source": [
        "vuln_slice = vuln_flatten_df[\n",
        "    (vuln_flatten_df['packages.fix_available'] == '1') &\n",
        "    (vuln_flatten_df['packages.severity'].isin(['High', 'Critical'])) &\n",
        "    (vuln_flatten_df['packages.description'].str.contains('remote'))][\n",
        "        ['packages.name', 'cve_id', 'packages.version', 'packages.fixed_version', 'packages.severity']].drop_duplicates()\n",
        "\n",
        "vuln_slice"
      ],
      "id": "fe2811b0",
      "execution_count": null,
      "outputs": []
    },
    {
      "cell_type": "markdown",
      "metadata": {
        "id": "28b3f9e1"
      },
      "source": [
        "We can take a look at CVEs and severity together for instance"
      ],
      "id": "28b3f9e1"
    },
    {
      "cell_type": "code",
      "metadata": {
        "id": "1f8301fe"
      },
      "source": [
        "vuln_slice[['cve_id', 'packages.severity']].value_counts()"
      ],
      "id": "1f8301fe",
      "execution_count": null,
      "outputs": []
    },
    {
      "cell_type": "code",
      "metadata": {
        "id": "a24239d3"
      },
      "source": [
        "vuln_slice[['cve_id', 'packages.severity']].drop_duplicates()"
      ],
      "id": "a24239d3",
      "execution_count": null,
      "outputs": []
    },
    {
      "cell_type": "markdown",
      "metadata": {
        "id": "d6a418cf"
      },
      "source": [
        "And from this we could get some indication of priority of tasks, etc."
      ],
      "id": "d6a418cf"
    },
    {
      "cell_type": "markdown",
      "metadata": {
        "id": "51a7f59e"
      },
      "source": [
        "## LQL Queries\n",
        "\n",
        "You can also run LQL queries here."
      ],
      "id": "51a7f59e"
    },
    {
      "cell_type": "code",
      "metadata": {
        "id": "371aa9dc"
      },
      "source": [
        "lw.query_builder()\n"
      ],
      "id": "371aa9dc",
      "execution_count": null,
      "outputs": []
    },
    {
      "cell_type": "markdown",
      "metadata": {
        "id": "e83ce1d4"
      },
      "source": [
        "## Final Words"
      ],
      "id": "e83ce1d4"
    },
    {
      "cell_type": "markdown",
      "metadata": {
        "id": "bbce5bd9"
      },
      "source": [
        "To discover what is possible within the client, use jupyter functions"
      ],
      "id": "bbce5bd9"
    },
    {
      "cell_type": "code",
      "metadata": {
        "id": "d58836e7"
      },
      "source": [
        "client.*?"
      ],
      "id": "d58836e7",
      "execution_count": null,
      "outputs": []
    },
    {
      "cell_type": "markdown",
      "metadata": {
        "id": "b5597de5"
      },
      "source": [
        "This will show you what API wrappers are available, and within each of these you can find out the available functions."
      ],
      "id": "b5597de5"
    },
    {
      "cell_type": "code",
      "metadata": {
        "id": "f664648d"
      },
      "source": [
        "client.events.*?"
      ],
      "id": "f664648d",
      "execution_count": null,
      "outputs": []
    },
    {
      "cell_type": "markdown",
      "metadata": {
        "id": "a6bdc683"
      },
      "source": [
        "And to find out how to use each function."
      ],
      "id": "a6bdc683"
    },
    {
      "cell_type": "code",
      "metadata": {
        "id": "acdc5ed9"
      },
      "source": [
        "client.events.get_for_date_range?"
      ],
      "id": "acdc5ed9",
      "execution_count": null,
      "outputs": []
    },
    {
      "cell_type": "code",
      "metadata": {
        "id": "a4160bcd"
      },
      "source": [
        ""
      ],
      "id": "a4160bcd",
      "execution_count": null,
      "outputs": []
    }
  ]
}
